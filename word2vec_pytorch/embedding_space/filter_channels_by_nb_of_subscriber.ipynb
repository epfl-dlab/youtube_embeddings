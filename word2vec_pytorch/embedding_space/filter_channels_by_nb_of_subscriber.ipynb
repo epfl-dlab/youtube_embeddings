{
 "cells": [
  {
   "cell_type": "code",
   "execution_count": 1,
   "metadata": {},
   "outputs": [],
   "source": [
    "import os\n",
    "import sys\n",
    "\n",
    "scriptpath = \"/home/jouven/youtube_projects/\"\n",
    "sys.path.append(os.path.abspath(scriptpath))\n",
    "from helpers.helpers_channels_more_300 import *"
   ]
  },
  {
   "cell_type": "markdown",
   "metadata": {},
   "source": [
    "### Notebook objectives:\n",
    "This notebook enables to select the channels having more than THRESHOLD number of subscriber"
   ]
  },
  {
   "cell_type": "code",
   "execution_count": 2,
   "metadata": {},
   "outputs": [],
   "source": [
    "# Selected channels and id-index mapping\n",
    "dict_channel_ind, dict_ind_channel, channels_id = filtered_channels_index_id_mapping()"
   ]
  },
  {
   "cell_type": "code",
   "execution_count": 6,
   "metadata": {},
   "outputs": [],
   "source": [
    "THRESHOLD = 50000\n",
    "channelcrawler = pd.read_csv(\"/dlabdata1/youtube_large/df_channels_en.tsv.gz\", sep='\\t')\n",
    "# Select the rows being in the select channels\n",
    "channelcrawler = channelcrawler[channelcrawler['channel'].apply(lambda row: row in channels_id)]\n",
    "channelcrawler = channelcrawler.loc[channelcrawler['subscribers_cc'] >= THRESHOLD]\n",
    "channels = list(channelcrawler['channel'])"
   ]
  },
  {
   "cell_type": "code",
   "execution_count": 7,
   "metadata": {},
   "outputs": [
    {
     "data": {
      "text/plain": [
       "59869"
      ]
     },
     "execution_count": 7,
     "metadata": {},
     "output_type": "execute_result"
    }
   ],
   "source": [
    "len(channels)"
   ]
  },
  {
   "cell_type": "code",
   "execution_count": 8,
   "metadata": {},
   "outputs": [],
   "source": [
    "with open(\"/dlabdata1/youtube_large/jouven/channels_more_300/channels_more_50k_subs.pkl\",'wb') as f:\n",
    "     pickle.dump(channels, f)\n",
    "f.close()"
   ]
  },
  {
   "cell_type": "code",
   "execution_count": 22,
   "metadata": {},
   "outputs": [
    {
     "data": {
      "text/html": [
       "<div>\n",
       "<style scoped>\n",
       "    .dataframe tbody tr th:only-of-type {\n",
       "        vertical-align: middle;\n",
       "    }\n",
       "\n",
       "    .dataframe tbody tr th {\n",
       "        vertical-align: top;\n",
       "    }\n",
       "\n",
       "    .dataframe thead th {\n",
       "        text-align: right;\n",
       "    }\n",
       "</style>\n",
       "<table border=\"1\" class=\"dataframe\">\n",
       "  <thead>\n",
       "    <tr style=\"text-align: right;\">\n",
       "      <th></th>\n",
       "      <th>category</th>\n",
       "      <th>join_date</th>\n",
       "      <th>link</th>\n",
       "      <th>name</th>\n",
       "      <th>subscribers</th>\n",
       "      <th>videos</th>\n",
       "      <th>channel_id</th>\n",
       "    </tr>\n",
       "  </thead>\n",
       "  <tbody>\n",
       "    <tr>\n",
       "      <th>7</th>\n",
       "      <td>Film and Animation</td>\n",
       "      <td>2013-12-17</td>\n",
       "      <td>http://www.youtube.com/channel/UCISF5OGuAtSLNF...</td>\n",
       "      <td>Magpiepony</td>\n",
       "      <td>736000</td>\n",
       "      <td>304</td>\n",
       "      <td>UCISF5OGuAtSLNF24TKTnXag</td>\n",
       "    </tr>\n",
       "    <tr>\n",
       "      <th>21</th>\n",
       "      <td>Education</td>\n",
       "      <td>2015-06-29</td>\n",
       "      <td>http://www.youtube.com/channel/UCltVEZ6GecWnto...</td>\n",
       "      <td>Ekeeda</td>\n",
       "      <td>513000</td>\n",
       "      <td>6240</td>\n",
       "      <td>UCltVEZ6GecWntoZ19FvaWhQ</td>\n",
       "    </tr>\n",
       "    <tr>\n",
       "      <th>56</th>\n",
       "      <td>Sports</td>\n",
       "      <td>2017-12-19</td>\n",
       "      <td>http://www.youtube.com/channel/UC6yW44UGJJBvYT...</td>\n",
       "      <td>Manchester United</td>\n",
       "      <td>2060000</td>\n",
       "      <td>1058</td>\n",
       "      <td>UC6yW44UGJJBvYTlfC7CRg2Q</td>\n",
       "    </tr>\n",
       "    <tr>\n",
       "      <th>92</th>\n",
       "      <td>Music</td>\n",
       "      <td>2010-04-29</td>\n",
       "      <td>http://www.youtube.com/channel/UCk40qSGYnVdFFB...</td>\n",
       "      <td>Taylor Davis</td>\n",
       "      <td>2680000</td>\n",
       "      <td>193</td>\n",
       "      <td>UCk40qSGYnVdFFBNXRjrvdpQ</td>\n",
       "    </tr>\n",
       "    <tr>\n",
       "      <th>111</th>\n",
       "      <td>Howto &amp; Style</td>\n",
       "      <td>2014-07-04</td>\n",
       "      <td>http://www.youtube.com/channel/UC0T2juI9YTXJus...</td>\n",
       "      <td>Poonam's Kitchen</td>\n",
       "      <td>566000</td>\n",
       "      <td>250</td>\n",
       "      <td>UC0T2juI9YTXJus9M9Lvq9eg</td>\n",
       "    </tr>\n",
       "  </tbody>\n",
       "</table>\n",
       "</div>"
      ],
      "text/plain": [
       "               category   join_date  \\\n",
       "7    Film and Animation  2013-12-17   \n",
       "21            Education  2015-06-29   \n",
       "56               Sports  2017-12-19   \n",
       "92                Music  2010-04-29   \n",
       "111       Howto & Style  2014-07-04   \n",
       "\n",
       "                                                  link               name  \\\n",
       "7    http://www.youtube.com/channel/UCISF5OGuAtSLNF...         Magpiepony   \n",
       "21   http://www.youtube.com/channel/UCltVEZ6GecWnto...             Ekeeda   \n",
       "56   http://www.youtube.com/channel/UC6yW44UGJJBvYT...  Manchester United   \n",
       "92   http://www.youtube.com/channel/UCk40qSGYnVdFFB...       Taylor Davis   \n",
       "111  http://www.youtube.com/channel/UC0T2juI9YTXJus...   Poonam's Kitchen   \n",
       "\n",
       "     subscribers  videos                channel_id  \n",
       "7         736000     304  UCISF5OGuAtSLNF24TKTnXag  \n",
       "21        513000    6240  UCltVEZ6GecWntoZ19FvaWhQ  \n",
       "56       2060000    1058  UC6yW44UGJJBvYTlfC7CRg2Q  \n",
       "92       2680000     193  UCk40qSGYnVdFFBNXRjrvdpQ  \n",
       "111       566000     250  UC0T2juI9YTXJus9M9Lvq9eg  "
      ]
     },
     "execution_count": 22,
     "metadata": {},
     "output_type": "execute_result"
    }
   ],
   "source": [
    "channelcrawler.head()"
   ]
  },
  {
   "cell_type": "code",
   "execution_count": null,
   "metadata": {},
   "outputs": [],
   "source": []
  }
 ],
 "metadata": {
  "kernelspec": {
   "display_name": "Python 3",
   "language": "python",
   "name": "python3"
  },
  "language_info": {
   "codemirror_mode": {
    "name": "ipython",
    "version": 3
   },
   "file_extension": ".py",
   "mimetype": "text/x-python",
   "name": "python",
   "nbconvert_exporter": "python",
   "pygments_lexer": "ipython3",
   "version": "3.7.7"
  }
 },
 "nbformat": 4,
 "nbformat_minor": 2
}
